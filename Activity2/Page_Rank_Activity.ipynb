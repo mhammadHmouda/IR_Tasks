{
 "cells": [
  {
   "cell_type": "code",
   "execution_count": 21,
   "metadata": {},
   "outputs": [],
   "source": [
    "import numpy as np"
   ]
  },
  {
   "cell_type": "markdown",
   "metadata": {},
   "source": [
    "   This is my initial eigenvector score for pages."
   ]
  },
  {
   "cell_type": "code",
   "execution_count": 22,
   "metadata": {},
   "outputs": [
    {
     "name": "stdout",
     "output_type": "stream",
     "text": [
      "[0.16666667 0.16666667 0.16666667 0.16666667 0.16666667 0.16666667]\n"
     ]
    }
   ],
   "source": [
    "x0 = np.array([1/6, 1/6, 1/6, 1/6, 1/6, 1/6])\n",
    "print(x0)"
   ]
  },
  {
   "cell_type": "markdown",
   "metadata": {},
   "source": [
    "This is my graph of pages with links represent in matrix and modified this matrix to fix sinks and teleporting."
   ]
  },
  {
   "cell_type": "code",
   "execution_count": 23,
   "metadata": {},
   "outputs": [
    {
     "name": "stdout",
     "output_type": "stream",
     "text": [
      "[[0.01666667 0.46666667 0.46666667 0.01666667 0.01666667 0.01666667]\n",
      " [0.16666667 0.16666667 0.16666667 0.16666667 0.16666667 0.16666667]\n",
      " [0.31666667 0.31666667 0.01666667 0.01666667 0.31666667 0.01666667]\n",
      " [0.01666667 0.01666667 0.01666667 0.01666667 0.46666667 0.46666667]\n",
      " [0.01666667 0.01666667 0.01666667 0.46666667 0.01666667 0.46666667]\n",
      " [0.01666667 0.01666667 0.01666667 0.91666667 0.01666667 0.01666667]]\n"
     ]
    }
   ],
   "source": [
    "p = np.array([[1/60, 7/15, 7/15, 1/60, 1/60, 1/60],\n",
    "               [1/6, 1/6, 1/6, 1/6, 1/6, 1/6],\n",
    "               [19/60, 19/60 , 1/60, 1/60, 19/60, 1/60],\n",
    "               [1/60, 1/60, 1/60, 1/60, 7/15, 7/15],\n",
    "               [1/60, 1/60, 1/60, 7/15, 1/60, 7/15],\n",
    "               [1/60, 1/60, 1/60, 11/12, 1/60, 1/60]])\n",
    "\n",
    "print(p)"
   ]
  },
  {
   "cell_type": "markdown",
   "metadata": {},
   "source": [
    "Instead of using manual method power iteration to reach steady state im used loop of 16 iteration,    \n",
    "and im used this number because is enough number of iterations to reach steady state."
   ]
  },
  {
   "cell_type": "code",
   "execution_count": 24,
   "metadata": {},
   "outputs": [
    {
     "name": "stdout",
     "output_type": "stream",
     "text": [
      "[0.03724891 0.05402154 0.04154868 0.37500616 0.20598094 0.28619378]\n",
      "\n",
      "- Pages sorted based on the page rank with link analysis without content of each page:\n",
      "\n",
      "Page4 with score: 0.375006\n",
      "Page6 with score: 0.286194\n",
      "Page5 with score: 0.205981\n",
      "Page2 with score: 0.054022\n",
      "Page3 with score: 0.041549\n",
      "Page1 with score: 0.037249\n"
     ]
    }
   ],
   "source": [
    "page_rank_score = x0\n",
    "\n",
    "for i in range(16):\n",
    "    page_rank_score = np.dot(page_rank_score, p)\n",
    "\n",
    "print(page_rank_score)\n",
    "\n",
    "print(\"\\n- Pages sorted based on the page rank with link analysis without content of each page:\\n\")\n",
    "for i, index in enumerate(np.argsort(page_rank_score)[::-1], start=1):\n",
    "    print(f\"Page{index + 1} with score: {page_rank_score[index]:.6f}\")"
   ]
  },
  {
   "cell_type": "markdown",
   "metadata": {},
   "source": [
    "Im divide each element in the query_occurrences array to the sum of the elements in the query_occurrences,     \n",
    " because I need the score of each document normalized between 0 to 1 to apply this score to the final result."
   ]
  },
  {
   "cell_type": "code",
   "execution_count": 25,
   "metadata": {},
   "outputs": [
    {
     "name": "stdout",
     "output_type": "stream",
     "text": [
      "[0.06666667 0.2        0.13333333 0.26666667 0.33333333 0.        ]\n",
      "\n",
      "- Pages sorted based on the page content relevance to the query:\n",
      "\n",
      "Page5 with score: 0.33\n",
      "Page4 with score: 0.27\n",
      "Page2 with score: 0.20\n",
      "Page3 with score: 0.13\n",
      "Page1 with score: 0.07\n",
      "Page6 with score: 0.00\n"
     ]
    }
   ],
   "source": [
    "query_occurrences = np.array([1, 3, 2, 4, 5, 0])\n",
    "query_score = query_occurrences / np.sum(query_occurrences)\n",
    "\n",
    "print(query_score)\n",
    "\n",
    "print(\"\\n- Pages sorted based on the page content relevance to the query:\\n\")\n",
    "for i, index in enumerate(np.argsort(query_score)[::-1], start=1):\n",
    "    print(f\"Page{index + 1} with score: {query_score[index]:.2f}\")"
   ]
  },
  {
   "cell_type": "markdown",
   "metadata": {},
   "source": [
    "### In this approch im consider the query relevence after reach the steady state for each page in the graph \n",
    "Im calculate the final score for the query with each page based on the content, and im take in the consideration the pageRank    \n",
    " to modify the final result.\n",
    "\n",
    "Im multiply each of score (pageRank and queryRelvance Score) to the weight, and this weight depend on the IR system and usecases,   \n",
    "but for test purposes im assign 0.7 to the content of each document (query relevance) and 0.3 to the pageRank."
   ]
  },
  {
   "cell_type": "code",
   "execution_count": 26,
   "metadata": {},
   "outputs": [
    {
     "name": "stdout",
     "output_type": "stream",
     "text": [
      "[0.05784134 0.15620646 0.10579794 0.29916852 0.29512761 0.08585813]\n",
      "\n",
      "- Pages sorted based on the page content relevance to the query and consider the page rank on the score:\n",
      "\n",
      "Page4 with score: 0.299169\n",
      "Page5 with score: 0.295128\n",
      "Page2 with score: 0.156206\n",
      "Page3 with score: 0.105798\n",
      "Page6 with score: 0.085858\n",
      "Page1 with score: 0.057841\n"
     ]
    }
   ],
   "source": [
    "page_rank_weight = 0.3\n",
    "query_relvance_weight = 0.7\n",
    "\n",
    "final_score_results = page_rank_weight * page_rank_score + query_score * query_relvance_weight\n",
    "\n",
    "print(final_score_results)\n",
    "\n",
    "print(\"\\n- Pages sorted based on the page content relevance to the query and consider the page rank on the score:\\n\")\n",
    "for i, index in enumerate(np.argsort(final_score_results)[::-1], start=1):\n",
    "    print(f\"Page{index + 1} with score: {final_score_results[index]:.6f}\")"
   ]
  },
  {
   "cell_type": "markdown",
   "metadata": {},
   "source": [
    "In this approach im consider query relevance iteratively to update the score for each iteration   \n",
    "It allows for continuous refinement of the scores based on both link analysis and query relevance."
   ]
  },
  {
   "cell_type": "code",
   "execution_count": 27,
   "metadata": {},
   "outputs": [
    {
     "name": "stdout",
     "output_type": "stream",
     "text": [
      "[6.66666671e-02 2.00000000e-01 1.33333333e-01 2.66666666e-01\n",
      " 3.33333333e-01 7.17445350e-10]\n",
      "\n",
      "- Pages sorted based on the page rank with link analysis without content of each page:\n",
      "\n",
      "Page5 with score: 0.333333\n",
      "Page4 with score: 0.266667\n",
      "Page2 with score: 0.200000\n",
      "Page3 with score: 0.133333\n",
      "Page1 with score: 0.066667\n",
      "Page6 with score: 0.000000\n"
     ]
    }
   ],
   "source": [
    "page_rank_weight = 0.3\n",
    "query_relvance_weight = 0.7\n",
    "\n",
    "final_score_results = x0\n",
    "\n",
    "for i in range(16):\n",
    "    final_score_results = page_rank_weight * final_score_results + query_score * query_relvance_weight\n",
    "\n",
    "print(final_score_results)\n",
    "\n",
    "print(\"\\n- Pages sorted based on the page rank with link analysis without content of each page:\\n\")\n",
    "for i, index in enumerate(np.argsort(final_score_results)[::-1], start=1):\n",
    "    print(f\"Page{index + 1} with score: {final_score_results[index]:.6f}\")"
   ]
  }
 ],
 "metadata": {
  "kernelspec": {
   "display_name": "Python 3",
   "language": "python",
   "name": "python3"
  },
  "language_info": {
   "codemirror_mode": {
    "name": "ipython",
    "version": 3
   },
   "file_extension": ".py",
   "mimetype": "text/x-python",
   "name": "python",
   "nbconvert_exporter": "python",
   "pygments_lexer": "ipython3",
   "version": "3.12.0"
  }
 },
 "nbformat": 4,
 "nbformat_minor": 2
}
